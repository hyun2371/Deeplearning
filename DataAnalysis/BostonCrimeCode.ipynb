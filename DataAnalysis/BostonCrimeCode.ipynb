{
 "cells": [
  {
   "cell_type": "code",
   "execution_count": 1,
   "id": "7c2d6017",
   "metadata": {},
   "outputs": [
    {
     "name": "stdout",
     "output_type": "stream",
     "text": [
      "       INCIDENT_NUMBER  OFFENSE_CODE    OFFENSE_CODE_GROUP  \\\n",
      "0           I182070945           619               Larceny   \n",
      "1           I182070943          1402             Vandalism   \n",
      "2           I182070941          3410                 Towed   \n",
      "3           I182070940          3114  Investigate Property   \n",
      "4           I182070938          3114  Investigate Property   \n",
      "...                ...           ...                   ...   \n",
      "319068   I050310906-00          3125       Warrant Arrests   \n",
      "319069   I030217815-08           111              Homicide   \n",
      "319070   I030217815-08          3125       Warrant Arrests   \n",
      "319071   I010370257-00          3125       Warrant Arrests   \n",
      "319072       142052550          3125       Warrant Arrests   \n",
      "\n",
      "                        OFFENSE_DESCRIPTION DISTRICT REPORTING_AREA SHOOTING  \\\n",
      "0                        LARCENY ALL OTHERS      D14            808      NaN   \n",
      "1                                 VANDALISM      C11            347      NaN   \n",
      "2                       TOWED MOTOR VEHICLE       D4            151      NaN   \n",
      "3                      INVESTIGATE PROPERTY       D4            272      NaN   \n",
      "4                      INVESTIGATE PROPERTY       B3            421      NaN   \n",
      "...                                     ...      ...            ...      ...   \n",
      "319068                       WARRANT ARREST       D4            285      NaN   \n",
      "319069  MURDER, NON-NEGLIGIENT MANSLAUGHTER      E18            520      NaN   \n",
      "319070                       WARRANT ARREST      E18            520      NaN   \n",
      "319071                       WARRANT ARREST      E13            569      NaN   \n",
      "319072                       WARRANT ARREST       D4            903      NaN   \n",
      "\n",
      "        OCCURRED_ON_DATE  YEAR  MONTH DAY_OF_WEEK  HOUR    UCR_PART  \\\n",
      "0       2018-09-02 13:00  2018      9      Sunday    13    Part One   \n",
      "1        2018-08-21 0:00  2018      8     Tuesday     0    Part Two   \n",
      "2       2018-09-03 19:27  2018      9      Monday    19  Part Three   \n",
      "3       2018-09-03 21:16  2018      9      Monday    21  Part Three   \n",
      "4       2018-09-03 21:05  2018      9      Monday    21  Part Three   \n",
      "...                  ...   ...    ...         ...   ...         ...   \n",
      "319068  2016-06-05 17:25  2016      6      Sunday    17  Part Three   \n",
      "319069  2015-07-09 13:38  2015      7    Thursday    13    Part One   \n",
      "319070  2015-07-09 13:38  2015      7    Thursday    13  Part Three   \n",
      "319071  2016-05-31 19:35  2016      5     Tuesday    19  Part Three   \n",
      "319072   2015-06-22 0:12  2015      6      Monday     0  Part Three   \n",
      "\n",
      "                   STREET        Lat       Long                     Location  \n",
      "0              LINCOLN ST  42.357791 -71.139371  (42.35779134, -71.13937053)  \n",
      "1                HECLA ST  42.306821 -71.060300  (42.30682138, -71.06030035)  \n",
      "2             CAZENOVE ST  42.346589 -71.072429  (42.34658879, -71.07242943)  \n",
      "3              NEWCOMB ST  42.334182 -71.078664  (42.33418175, -71.07866441)  \n",
      "4                DELHI ST  42.275365 -71.090361  (42.27536542, -71.09036101)  \n",
      "...                   ...        ...        ...                          ...  \n",
      "319068        COVENTRY ST  42.336951 -71.085748  (42.33695098, -71.08574813)  \n",
      "319069           RIVER ST  42.255926 -71.123172  (42.25592648, -71.12317207)  \n",
      "319070           RIVER ST  42.255926 -71.123172  (42.25592648, -71.12317207)  \n",
      "319071  NEW WASHINGTON ST  42.302333 -71.111565  (42.30233307, -71.11156487)  \n",
      "319072      WASHINGTON ST  42.333839 -71.080290  (42.33383935, -71.08029038)  \n",
      "\n",
      "[319073 rows x 17 columns]\n"
     ]
    }
   ],
   "source": [
    "import pandas as pd\n",
    "data=pd.read_csv('C:/Users/Gahyun/Desktop/crime.csv', encoding='cp1252')\n",
    "print(data)"
   ]
  },
  {
   "cell_type": "code",
   "execution_count": 2,
   "id": "43be8c7f",
   "metadata": {},
   "outputs": [
    {
     "name": "stdout",
     "output_type": "stream",
     "text": [
      "  INCIDENT_NUMBER  OFFENSE_CODE OFFENSE_CODE_GROUP  OFFENSE_DESCRIPTION  \\\n",
      "0      I182070945           619            Larceny   LARCENY ALL OTHERS   \n",
      "1      I182070943          1402          Vandalism            VANDALISM   \n",
      "2      I182070941          3410              Towed  TOWED MOTOR VEHICLE   \n",
      "\n",
      "  DISTRICT REPORTING_AREA SHOOTING  OCCURRED_ON_DATE  YEAR  MONTH DAY_OF_WEEK  \\\n",
      "0      D14            808      NaN  2018-09-02 13:00  2018      9      Sunday   \n",
      "1      C11            347      NaN   2018-08-21 0:00  2018      8     Tuesday   \n",
      "2       D4            151      NaN  2018-09-03 19:27  2018      9      Monday   \n",
      "\n",
      "   HOUR    UCR_PART       STREET        Lat       Long  \\\n",
      "0    13    Part One   LINCOLN ST  42.357791 -71.139371   \n",
      "1     0    Part Two     HECLA ST  42.306821 -71.060300   \n",
      "2    19  Part Three  CAZENOVE ST  42.346589 -71.072429   \n",
      "\n",
      "                      Location  \n",
      "0  (42.35779134, -71.13937053)  \n",
      "1  (42.30682138, -71.06030035)  \n",
      "2  (42.34658879, -71.07242943)  \n"
     ]
    }
   ],
   "source": [
    "print(data.head(3))"
   ]
  },
  {
   "cell_type": "code",
   "execution_count": 3,
   "id": "37216bfd",
   "metadata": {},
   "outputs": [
    {
     "name": "stdout",
     "output_type": "stream",
     "text": [
      "<class 'pandas.core.frame.DataFrame'>\n",
      "RangeIndex: 319073 entries, 0 to 319072\n",
      "Data columns (total 17 columns):\n",
      " #   Column               Non-Null Count   Dtype  \n",
      "---  ------               --------------   -----  \n",
      " 0   INCIDENT_NUMBER      319073 non-null  object \n",
      " 1   OFFENSE_CODE         319073 non-null  int64  \n",
      " 2   OFFENSE_CODE_GROUP   319073 non-null  object \n",
      " 3   OFFENSE_DESCRIPTION  319073 non-null  object \n",
      " 4   DISTRICT             317308 non-null  object \n",
      " 5   REPORTING_AREA       319073 non-null  object \n",
      " 6   SHOOTING             1019 non-null    object \n",
      " 7   OCCURRED_ON_DATE     319073 non-null  object \n",
      " 8   YEAR                 319073 non-null  int64  \n",
      " 9   MONTH                319073 non-null  int64  \n",
      " 10  DAY_OF_WEEK          319073 non-null  object \n",
      " 11  HOUR                 319073 non-null  int64  \n",
      " 12  UCR_PART             318983 non-null  object \n",
      " 13  STREET               308202 non-null  object \n",
      " 14  Lat                  299074 non-null  float64\n",
      " 15  Long                 299074 non-null  float64\n",
      " 16  Location             319073 non-null  object \n",
      "dtypes: float64(2), int64(4), object(11)\n",
      "memory usage: 41.4+ MB\n",
      "None\n"
     ]
    }
   ],
   "source": [
    "print(data.info())"
   ]
  },
  {
   "cell_type": "code",
   "execution_count": 4,
   "id": "fcb19fa7",
   "metadata": {},
   "outputs": [
    {
     "data": {
      "text/plain": [
       "INCIDENT_NUMBER             0\n",
       "OFFENSE_CODE                0\n",
       "OFFENSE_CODE_GROUP          0\n",
       "OFFENSE_DESCRIPTION         0\n",
       "DISTRICT                 1765\n",
       "REPORTING_AREA              0\n",
       "SHOOTING               318054\n",
       "OCCURRED_ON_DATE            0\n",
       "YEAR                        0\n",
       "MONTH                       0\n",
       "DAY_OF_WEEK                 0\n",
       "HOUR                        0\n",
       "UCR_PART                   90\n",
       "STREET                  10871\n",
       "Lat                     19999\n",
       "Long                    19999\n",
       "Location                    0\n",
       "dtype: int64"
      ]
     },
     "execution_count": 4,
     "metadata": {},
     "output_type": "execute_result"
    }
   ],
   "source": [
    "data.isnull().sum()"
   ]
  },
  {
   "cell_type": "code",
   "execution_count": 5,
   "id": "9dc6232d",
   "metadata": {},
   "outputs": [],
   "source": [
    "#data=data.drop['OCCURRED_ON_DATE','Location']"
   ]
  },
  {
   "cell_type": "markdown",
   "id": "0f54a0ef",
   "metadata": {},
   "source": [
    "<h2>년,월,요일별 범죄 발생 빈도</h2>"
   ]
  },
  {
   "cell_type": "code",
   "execution_count": 6,
   "id": "e053ee24",
   "metadata": {},
   "outputs": [
    {
     "name": "stdout",
     "output_type": "stream",
     "text": [
      "연도별 범죄/사건 빈도수 평균: 79768  중앙값: 82400\n"
     ]
    }
   ],
   "source": [
    "import seaborn as sns\n",
    "import matplotlib.pylab as plt\n",
    "import numpy as np\n",
    "\n",
    "grouped1 = data.groupby('YEAR')\n",
    "g1_size=grouped1.size()\n",
    "print('연도별 범죄/사건 빈도수 평균:',round(g1_size.mean()), ' 중앙값:',round(g1_size.median()))"
   ]
  },
  {
   "cell_type": "code",
   "execution_count": 7,
   "id": "e3d5f80f",
   "metadata": {
    "scrolled": false
   },
   "outputs": [
    {
     "name": "stdout",
     "output_type": "stream",
     "text": [
      "<BarContainer object of 4 artists>\n"
     ]
    },
    {
     "data": {
      "image/png": "[encoded data removed]",
      "text/plain": [
       "<Figure size 432x288 with 1 Axes>"
      ]
     },
     "metadata": {
      "needs_background": "light"
     },
     "output_type": "display_data"
    }
   ],
   "source": [
    "x=['2015','2016','2017','2018']\n",
    "g1=plt.bar(x,g1_size)\n",
    "plt.title('yearly crime rates',fontsize=10)\n",
    "plt.xlabel('year')\n",
    "plt.grid(axis='y')\n",
    "print(g1)"
   ]
  },
  {
   "cell_type": "code",
   "execution_count": 8,
   "id": "46f462df",
   "metadata": {},
   "outputs": [
    {
     "data": {
      "image/png": "[encoded data removed]",
      "text/plain": [
       "<Figure size 432x288 with 1 Axes>"
      ]
     },
     "metadata": {
      "needs_background": "light"
     },
     "output_type": "display_data"
    }
   ],
   "source": [
    "grouped2= data.groupby('MONTH')\n",
    "g2_size=grouped2.size()\n",
    "plt.bar(g2_size.index,g2_size)\n",
    "plt.xticks(np.arange(1,13,1))\n",
    "plt.xlabel('month')\n",
    "plt.grid(axis='y')\n"
   ]
  },
  {
   "cell_type": "code",
   "execution_count": 9,
   "id": "375736b4",
   "metadata": {},
   "outputs": [
    {
     "name": "stdout",
     "output_type": "stream",
     "text": [
      "월별 범죄/사건 빈도수 평균: 26589  중앙값: 24942\n",
      "MONTH\n",
      "1     23610\n",
      "2     21653\n",
      "3     24146\n",
      "4     24086\n",
      "5     26199\n",
      "6     30568\n",
      "7     34556\n",
      "8     34823\n",
      "9     26543\n",
      "10    25737\n",
      "11    23675\n",
      "12    23477\n",
      "dtype: int64\n"
     ]
    }
   ],
   "source": [
    "print('월별 범죄/사건 빈도수 평균:',round(g2_size.mean()), ' 중앙값:',round(g2_size.median()))\n",
    "print(g2_size)\n"
   ]
  },
  {
   "cell_type": "code",
   "execution_count": 67,
   "id": "503c5c8c",
   "metadata": {
    "scrolled": true
   },
   "outputs": [
    {
     "data": {
      "image/png": "[encoded data removed]",
      "text/plain": [
       "<Figure size 432x288 with 1 Axes>"
      ]
     },
     "metadata": {
      "needs_background": "light"
     },
     "output_type": "display_data"
    }
   ],
   "source": [
    "grouped3=data.groupby('DAY_OF_WEEK')\n",
    "g3_size=grouped3.size()\n",
    "x=['Monday','Tuesday','Wednesday','Thursday','Friday','Saturday','Sunday']\n",
    "y=[45679,46383,46729,46656,48495,44818,40313]\n",
    "plt.bar(x,y)\n",
    "plt.xticks(rotation=30)\n",
    "plt.ylim([30000,50000])\n",
    "plt.xlabel('DAY OF WEEK')\n",
    "plt.grid(axis='y')"
   ]
  },
  {
   "cell_type": "code",
   "execution_count": 49,
   "id": "eec72984",
   "metadata": {},
   "outputs": [
    {
     "name": "stdout",
     "output_type": "stream",
     "text": [
      "요일별 범죄/사건 빈도수\n",
      "평균: 45582  중앙값: 46383  최대값: 48495  최소값: 40313\n"
     ]
    }
   ],
   "source": [
    "g3_size\n",
    "print('요일별 범죄/사건 빈도수\\n평균:',round(g3_size.mean()), ' 중앙값:',round(g3_size.median()), ' 최대값:',g3_size.max(), ' 최소값:',g3_size.min())\n"
   ]
  },
  {
   "cell_type": "code",
   "execution_count": 64,
   "id": "c6be85ea",
   "metadata": {},
   "outputs": [
    {
     "data": {
      "text/plain": [
       "DAY_OF_WEEK\n",
       "Friday       48495\n",
       "Monday       45679\n",
       "Saturday     44818\n",
       "Sunday       40313\n",
       "Thursday     46656\n",
       "Tuesday      46383\n",
       "Wednesday    46729\n",
       "dtype: int64"
      ]
     },
     "execution_count": 64,
     "metadata": {},
     "output_type": "execute_result"
    }
   ],
   "source": [
    "g3_size"
   ]
  },
  {
   "cell_type": "code",
   "execution_count": 12,
   "id": "63921c74",
   "metadata": {
    "scrolled": true
   },
   "outputs": [
    {
     "data": {
      "image/png": "[encoded data removed]",
      "text/plain": [
       "<Figure size 432x288 with 1 Axes>"
      ]
     },
     "metadata": {
      "needs_background": "light"
     },
     "output_type": "display_data"
    }
   ],
   "source": [
    "grouped=data.groupby('HOUR')\n",
    "gs=grouped.size()\n",
    "plt.bar(gs.index,gs)\n",
    "plt.xticks(np.arange(0,24,2))\n",
    "plt.xlabel('HOUR')\n",
    "plt.grid(axis='y')"
   ]
  },
  {
   "cell_type": "code",
   "execution_count": 57,
   "id": "686b1d80",
   "metadata": {},
   "outputs": [
    {
     "name": "stdout",
     "output_type": "stream",
     "text": [
      "시간별 범죄/사건 발생 빈도\n",
      "평균: 13295  중앙값: 14923  최대값: 20763  최소값: 3311\n"
     ]
    }
   ],
   "source": [
    "print('시간별 범죄/사건 발생 빈도\\n평균:',round(gs.mean()),' 중앙값:',round(gs.median()),' 최대값:',gs.max(),' 최소값:', gs.min() )"
   ]
  },
  {
   "cell_type": "markdown",
   "id": "18320608",
   "metadata": {},
   "source": [
    "<h2>범죄 분류</h2>\n",
    "Larceny 절도죄, 도둑질\n",
    "Drug violation 약물 남용\n",
    "Simple assualt 단순 폭행\n",
    "Verbal disputes 언쟁\n",
    "Vandalism 사유재산 파괴\n",
    "Medical assistance 의료 도움"
   ]
  },
  {
   "cell_type": "code",
   "execution_count": 14,
   "id": "546550cb",
   "metadata": {
    "scrolled": false
   },
   "outputs": [
    {
     "data": {
      "text/plain": [
       "OFFENSE_CODE_GROUP\n",
       "Motor Vehicle Accident Response    37132\n",
       "Larceny                            25935\n",
       "Medical Assistance                 23540\n",
       "Investigate Person                 18750\n",
       "Other                              18075\n",
       "Drug Violation                     16548\n",
       "Simple Assault                     15826\n",
       "Vandalism                          15415\n",
       "Verbal Disputes                    13099\n",
       "Towed                              11287\n",
       "dtype: int64"
      ]
     },
     "execution_count": 14,
     "metadata": {},
     "output_type": "execute_result"
    }
   ],
   "source": [
    "grouped4=data.groupby('OFFENSE_CODE_GROUP')\n",
    "grouped4.size().nlargest(10)"
   ]
  },
  {
   "cell_type": "markdown",
   "id": "1a1b91e9",
   "metadata": {},
   "source": [
    "<h2>UCR_PART별 분류</h2>"
   ]
  },
  {
   "cell_type": "code",
   "execution_count": 15,
   "id": "4ec1825d",
   "metadata": {
    "scrolled": true
   },
   "outputs": [
    {
     "data": {
      "text/plain": [
       "UCR_PART\n",
       "Other           1232\n",
       "Part One       61629\n",
       "Part Three    158553\n",
       "Part Two       97569\n",
       "dtype: int64"
      ]
     },
     "execution_count": 15,
     "metadata": {},
     "output_type": "execute_result"
    }
   ],
   "source": [
    "grouped5 = data.groupby('UCR_PART')\n",
    "g5=grouped5.size()\n",
    "g5"
   ]
  },
  {
   "cell_type": "code",
   "execution_count": 16,
   "id": "419154a4",
   "metadata": {
    "scrolled": true
   },
   "outputs": [
    {
     "data": {
      "text/plain": [
       "([<matplotlib.patches.Wedge at 0x19bbdca2700>,\n",
       "  <matplotlib.patches.Wedge at 0x19bbdca2d00>,\n",
       "  <matplotlib.patches.Wedge at 0x19bbdcb2460>,\n",
       "  <matplotlib.patches.Wedge at 0x19bbdcb2b80>],\n",
       " [Text(1.0999190263996286, 0.013346736083911737, 'Other'),\n",
       "  Text(0.8880274645754217, 0.6491588574145378, 'Part One'),\n",
       "  Text(-1.0363565719523349, 0.3687343973257786, 'Part Three'),\n",
       "  Text(0.6300287880829724, -0.9017004636722227, 'Part Two')],\n",
       " [Text(0.5999558325816154, 0.007280037863951856, '0.4%'),\n",
       "  Text(0.48437861704113905, 0.3540866494988388, '19.3%'),\n",
       "  Text(-0.5652854028830917, 0.20112785308678832, '49.7%'),\n",
       "  Text(0.34365206622707584, -0.491836616548485, '30.6%')])"
      ]
     },
     "execution_count": 16,
     "metadata": {},
     "output_type": "execute_result"
    },
    {
     "data": {
      "image/png": "[encoded data removed]",
      "text/plain": [
       "<Figure size 432x288 with 1 Axes>"
      ]
     },
     "metadata": {},
     "output_type": "display_data"
    }
   ],
   "source": [
    "plt.pie(g5.values,labels=g5.index, autopct='%.1f%%')\n"
   ]
  },
  {
   "cell_type": "markdown",
   "id": "603c7c8f",
   "metadata": {},
   "source": []
  },
  {
   "cell_type": "code",
   "execution_count": 17,
   "id": "ad57579a",
   "metadata": {},
   "outputs": [],
   "source": [
    "data_p1=data[data['UCR_PART']==\"Part One\"]\n",
    "data_p2=data[data['UCR_PART']==\"Part Two\"]\n",
    "data_p3=data[data['UCR_PART']==\"Part Three\"]\n"
   ]
  },
  {
   "cell_type": "code",
   "execution_count": 18,
   "id": "fc945a45",
   "metadata": {
    "scrolled": true
   },
   "outputs": [
    {
     "data": {
      "text/plain": [
       "<BarContainer object of 9 artists>"
      ]
     },
     "execution_count": 18,
     "metadata": {},
     "output_type": "execute_result"
    },
    {
     "data": {
      "image/png": "[encoded data removed]",
      "text/plain": [
       "<Figure size 432x288 with 1 Axes>"
      ]
     },
     "metadata": {
      "needs_background": "light"
     },
     "output_type": "display_data"
    }
   ],
   "source": [
    "g_dp1=data_p1.groupby('OFFENSE_CODE_GROUP')\n",
    "g_dp1=g_dp1.size()\n",
    "plt.barh(g_dp1.nlargest(10).index,g_dp1.nlargest(9))"
   ]
  },
  {
   "cell_type": "code",
   "execution_count": 58,
   "id": "af068285",
   "metadata": {},
   "outputs": [
    {
     "name": "stdout",
     "output_type": "stream",
     "text": [
      "OFFENSE_CODE_GROUP\n",
      "Ballistics                           981\n",
      "Biological Threat                      2\n",
      "Bomb Hoax                             75\n",
      "Confidence Games                    3147\n",
      "Counterfeiting                      1454\n",
      "Criminal Harassment                  131\n",
      "Disorderly Conduct                  2611\n",
      "Drug Violation                     16548\n",
      "Embezzlement                         296\n",
      "Evading Fare                         407\n",
      "Explosives                            13\n",
      "Fire Related Reports                 126\n",
      "Firearm Violations                  1777\n",
      "Fraud                               5829\n",
      "Gambling                               8\n",
      "Harassment                          4007\n",
      "Liquor Violation                    1052\n",
      "Missing Person Reported               31\n",
      "Offenses Against Child / Family      545\n",
      "Operating Under the Influence        574\n",
      "Other                              17089\n",
      "Phone Call Complaints                 31\n",
      "Prisoner Related Incidents           230\n",
      "Prostitution                         207\n",
      "Recovered Stolen Property           1455\n",
      "Restraining Order Violations        1607\n",
      "Simple Assault                     15826\n",
      "Vandalism                          15415\n",
      "Violations                          6095\n",
      "dtype: int64\n",
      "17089 2\n"
     ]
    }
   ],
   "source": [
    "g_dp2=data_p2.groupby('OFFENSE_CODE_GROUP')\n",
    "g_dp2=g_dp2.size()\n",
    "print(g_dp2)\n",
    "print(g_dp2.max(), g_dp2.min())"
   ]
  },
  {
   "cell_type": "code",
   "execution_count": 20,
   "id": "eb2bf55c",
   "metadata": {
    "scrolled": false
   },
   "outputs": [
    {
     "data": {
      "text/plain": [
       "<BarContainer object of 10 artists>"
      ]
     },
     "execution_count": 20,
     "metadata": {},
     "output_type": "execute_result"
    },
    {
     "data": {
      "image/png": "[encoded data removed]",
      "text/plain": [
       "<Figure size 432x288 with 1 Axes>"
      ]
     },
     "metadata": {
      "needs_background": "light"
     },
     "output_type": "display_data"
    }
   ],
   "source": [
    "plt.barh(g_dp2.nlargest(10).index,g_dp2.nlargest(10))\n",
    "#신용사기"
   ]
  },
  {
   "cell_type": "code",
   "execution_count": 21,
   "id": "e8604564",
   "metadata": {},
   "outputs": [],
   "source": [
    "g_dp3=data_p3.groupby('OFFENSE_CODE_GROUP')\n",
    "g_dp3=g_dp3.size()"
   ]
  },
  {
   "cell_type": "code",
   "execution_count": 22,
   "id": "56d813e9",
   "metadata": {},
   "outputs": [
    {
     "data": {
      "text/plain": [
       "<BarContainer object of 10 artists>"
      ]
     },
     "execution_count": 22,
     "metadata": {},
     "output_type": "execute_result"
    },
    {
     "data": {
      "image/png": "[encoded data removed]",
      "text/plain": [
       "<Figure size 432x288 with 1 Axes>"
      ]
     },
     "metadata": {
      "needs_background": "light"
     },
     "output_type": "display_data"
    }
   ],
   "source": [
    "plt.barh(g_dp3.nlargest(10).index,g_dp3.nlargest(10))"
   ]
  },
  {
   "cell_type": "markdown",
   "id": "ffe85d65",
   "metadata": {},
   "source": [
    "<h3>파트별 지역 발생 빈도</h3>"
   ]
  },
  {
   "cell_type": "code",
   "execution_count": 23,
   "id": "3e59043d",
   "metadata": {
    "scrolled": true
   },
   "outputs": [
    {
     "data": {
      "text/plain": [
       "STREET\n",
       "WASHINGTON ST        14194\n",
       "BLUE HILL AVE         7794\n",
       "BOYLSTON ST           7221\n",
       "DORCHESTER AVE        5149\n",
       "TREMONT ST            4796\n",
       "MASSACHUSETTS AVE     4708\n",
       "HARRISON AVE          4609\n",
       "CENTRE ST             4383\n",
       "COMMONWEALTH AVE      4134\n",
       "HYDE PARK AVE         3470\n",
       "dtype: int64"
      ]
     },
     "execution_count": 23,
     "metadata": {},
     "output_type": "execute_result"
    }
   ],
   "source": [
    "d_sg=data.groupby(['STREET'])\n",
    "d_sg.size().nlargest(10)"
   ]
  },
  {
   "cell_type": "code",
   "execution_count": 24,
   "id": "2b544345",
   "metadata": {
    "scrolled": false
   },
   "outputs": [
    {
     "data": {
      "text/plain": [
       "UCR_PART    STREET          \n",
       "Part Three  WASHINGTON ST       5979\n",
       "Part Two    WASHINGTON ST       4994\n",
       "Part Three  BLUE HILL AVE       3647\n",
       "Part One    WASHINGTON ST       3190\n",
       "Part Two    BLUE HILL AVE       2745\n",
       "Part One    BOYLSTON ST         2737\n",
       "Part Three  DORCHESTER AVE      2404\n",
       "            BOYLSTON ST         2357\n",
       "            COMMONWEALTH AVE    2236\n",
       "            CENTRE ST           2226\n",
       "dtype: int64"
      ]
     },
     "execution_count": 24,
     "metadata": {},
     "output_type": "execute_result"
    }
   ],
   "source": [
    "x=data.groupby(['UCR_PART','STREET'])\n",
    "x.size().nlargest(10)"
   ]
  },
  {
   "cell_type": "markdown",
   "id": "1a4457e8",
   "metadata": {},
   "source": [
    "<h2>지역별 범죄발생수</h2>"
   ]
  },
  {
   "cell_type": "code",
   "execution_count": 25,
   "id": "ba14026d",
   "metadata": {},
   "outputs": [
    {
     "name": "stdout",
     "output_type": "stream",
     "text": [
      "DISTRICT\n",
      "A1     35717\n",
      "A15     6505\n",
      "A7     13544\n",
      "B2     49945\n",
      "B3     35442\n",
      "C11    42530\n",
      "C6     23460\n",
      "D14    20127\n",
      "D4     41915\n",
      "E13    17536\n",
      "E18    17348\n",
      "E5     13239\n",
      "dtype: int64\n"
     ]
    },
    {
     "data": {
      "text/plain": [
       "([<matplotlib.patches.Wedge at 0x19bc8b1c9d0>,\n",
       "  <matplotlib.patches.Wedge at 0x19bc8b2b160>,\n",
       "  <matplotlib.patches.Wedge at 0x19bc8b2b880>,\n",
       "  <matplotlib.patches.Wedge at 0x19bc8b2bfa0>,\n",
       "  <matplotlib.patches.Wedge at 0x19bc8b39700>,\n",
       "  <matplotlib.patches.Wedge at 0x19bc8b39e20>,\n",
       "  <matplotlib.patches.Wedge at 0x19bc8b47580>,\n",
       "  <matplotlib.patches.Wedge at 0x19bc8b47ca0>,\n",
       "  <matplotlib.patches.Wedge at 0x19bc8b53400>,\n",
       "  <matplotlib.patches.Wedge at 0x19bc8b53b20>,\n",
       "  <matplotlib.patches.Wedge at 0x19bc83777f0>,\n",
       "  <matplotlib.patches.Wedge at 0x19bc8b60970>],\n",
       " [Text(1.0319356224444, 0.38093158326698096, 'A1'),\n",
       "  Text(0.7884326442857201, 0.7670553861518914, 'A15'),\n",
       "  Text(0.6216875778281514, 0.9074715177757186, 'A7'),\n",
       "  Text(-0.03074086612179377, 1.0995703702583486, 'B2'),\n",
       "  Text(-0.8431309736601027, 0.7064914445730871, 'B3'),\n",
       "  Text(-1.0969460691467112, -0.08191044734085398, 'C11'),\n",
       "  Text(-0.821241718624361, -0.731821043419022, 'C6'),\n",
       "  Text(-0.43984884749530795, -1.008232607763233, 'D14'),\n",
       "  Text(0.22165796624655792, -1.0774357270851194, 'D4'),\n",
       "  Text(0.782554489231658, -0.7730514028079756, 'E13'),\n",
       "  Text(0.9980612869897912, -0.46246477423938115, 'E18'),\n",
       "  Text(1.0905639902530373, -0.14377128768767855, 'E5')],\n",
       " [Text(0.5628739758787636, 0.2077808636001714, '11.3%'),\n",
       "  Text(0.4300541696103927, 0.41839384699194077, '2.1%'),\n",
       "  Text(0.33910231517899164, 0.494984464241301, '4.3%'),\n",
       "  Text(-0.016767745157342057, 0.5997656565045537, '15.7%'),\n",
       "  Text(-0.4598896219964196, 0.38535896976713835, '11.2%'),\n",
       "  Text(-0.5983342195345697, -0.044678425822283985, '13.4%'),\n",
       "  Text(-0.4479500283405605, -0.39917511459219374, '7.4%'),\n",
       "  Text(-0.23991755317925886, -0.5499450587799453, '6.3%'),\n",
       "  Text(0.12090434522539521, -0.5876922147737015, '13.2%'),\n",
       "  Text(0.42684790321726795, -0.42166440153162305, '5.5%'),\n",
       "  Text(0.5443970656307952, -0.2522535132214806, '5.5%'),\n",
       "  Text(0.5948530855925658, -0.07842070237509739, '4.2%')])"
      ]
     },
     "execution_count": 25,
     "metadata": {},
     "output_type": "execute_result"
    },
    {
     "data": {
      "image/png": "[encoded data removed]",
      "text/plain": [
       "<Figure size 432x288 with 1 Axes>"
      ]
     },
     "metadata": {},
     "output_type": "display_data"
    }
   ],
   "source": [
    "data['DISTRICT']=data['DISTRICT'].str[0]\n",
    "g6=data.groupby('DISTRICT').size()\n",
    "print(g6)\n",
    "plt.pie(g6.values,labels=g6.index, autopct='%.1f%%')"
   ]
  },
  {
   "cell_type": "markdown",
   "id": "9cd39414",
   "metadata": {},
   "source": [
    "<h2>지역번호 별 빈도수</h2>"
   ]
  },
  {
   "cell_type": "code",
   "execution_count": 62,
   "id": "a730cef3",
   "metadata": {},
   "outputs": [
    {
     "data": {
      "text/plain": [
       "' '"
      ]
     },
     "execution_count": 62,
     "metadata": {},
     "output_type": "execute_result"
    }
   ],
   "source": [
    "x=data.groupby(['REPORTING_AREA'])\n",
    "x.size().nlargest(10)\n",
    "data['REPORTING_AREA'][15]"
   ]
  },
  {
   "cell_type": "code",
   "execution_count": 27,
   "id": "60d89df0",
   "metadata": {
    "scrolled": true
   },
   "outputs": [
    {
     "data": {
      "text/plain": [
       "DISTRICT  REPORTING_AREA\n",
       "A1                          3443\n",
       "D4                          3385\n",
       "B2                          3384\n",
       "A1        111               2316\n",
       "C6        186               1915\n",
       "B2        329               1874\n",
       "D4        143               1775\n",
       "A1        117               1755\n",
       "D4        624               1751\n",
       "A7        26                1738\n",
       "Name: DISTRICT, dtype: int64"
      ]
     },
     "execution_count": 27,
     "metadata": {},
     "output_type": "execute_result"
    }
   ],
   "source": [
    "x=data.groupby(['DISTRICT','REPORTING_AREA'])\n",
    "x['DISTRICT'].size().nlargest(10)"
   ]
  },
  {
   "cell_type": "markdown",
   "id": "d6e78ec5",
   "metadata": {},
   "source": [
    "<h3>파트에 따른 지역별 빈도수</h3>"
   ]
  },
  {
   "cell_type": "code",
   "execution_count": 28,
   "id": "df7630e1",
   "metadata": {},
   "outputs": [
    {
     "data": {
      "text/plain": [
       "UCR_PART    DISTRICT\n",
       "Other       A1             69\n",
       "            A15            24\n",
       "            A7             76\n",
       "            B2            236\n",
       "            B3            168\n",
       "            C11           195\n",
       "            C6            118\n",
       "            D14            59\n",
       "            D4            133\n",
       "            E13            51\n",
       "            E18            60\n",
       "            E5             32\n",
       "Part One    A1           8535\n",
       "            A15          1246\n",
       "            A7           2202\n",
       "            B2           8803\n",
       "            B3           4997\n",
       "            C11          6737\n",
       "            C6           4502\n",
       "            D14          3940\n",
       "            D4          12411\n",
       "            E13          3563\n",
       "            E18          2601\n",
       "            E5           1874\n",
       "Part Three  A1          16004\n",
       "            A15          3435\n",
       "            A7           6861\n",
       "            B2          24582\n",
       "            B3          19071\n",
       "            C11         21953\n",
       "            C6          11602\n",
       "            D14         10833\n",
       "            D4          17464\n",
       "            E13          8653\n",
       "            E18          9661\n",
       "            E5           7412\n",
       "Part Two    A1          11107\n",
       "            A15          1800\n",
       "            A7           4402\n",
       "            B2          16308\n",
       "            B3          11193\n",
       "            C11         13630\n",
       "            C6           7232\n",
       "            D14          5286\n",
       "            D4          11900\n",
       "            E13          5265\n",
       "            E18          5018\n",
       "            E5           3914\n",
       "dtype: int64"
      ]
     },
     "execution_count": 28,
     "metadata": {},
     "output_type": "execute_result"
    }
   ],
   "source": [
    "x=data.groupby(['UCR_PART','DISTRICT'])\n",
    "x.size()"
   ]
  },
  {
   "cell_type": "code",
   "execution_count": 29,
   "id": "1c5c4e72",
   "metadata": {
    "scrolled": true
   },
   "outputs": [
    {
     "data": {
      "text/plain": [
       "Text(0.5, 1.0, 'part1 crime rate')"
      ]
     },
     "execution_count": 29,
     "metadata": {},
     "output_type": "execute_result"
    },
    {
     "data": {
      "image/png": "[encoded data removed]",
      "text/plain": [
       "<Figure size 432x288 with 1 Axes>"
      ]
     },
     "metadata": {},
     "output_type": "display_data"
    }
   ],
   "source": [
    "x1=[169,404,313,192,143]\n",
    "x2=[11983,13800,11239,16351,8038]\n",
    "x3=[26300,46353,33555,28297,25726]\n",
    "x4=[17309,27501,20862,17186,14197]\n",
    "y=['A','B','C','D','E']\n",
    "p1=plt.pie(x1,labels=y, autopct='%.1f%%')\n",
    "plt.title('part1 crime rate')\n"
   ]
  },
  {
   "cell_type": "code",
   "execution_count": 30,
   "id": "817ec3f2",
   "metadata": {
    "scrolled": true
   },
   "outputs": [
    {
     "data": {
      "text/plain": [
       "Text(0.5, 1.0, 'part2 crime rate')"
      ]
     },
     "execution_count": 30,
     "metadata": {},
     "output_type": "execute_result"
    },
    {
     "data": {
      "image/png": "[encoded data removed]",
      "text/plain": [
       "<Figure size 432x288 with 1 Axes>"
      ]
     },
     "metadata": {},
     "output_type": "display_data"
    }
   ],
   "source": [
    "p2=plt.pie(x2,labels=y, autopct='%.1f%%')\n",
    "plt.title('part2 crime rate')"
   ]
  },
  {
   "cell_type": "code",
   "execution_count": 31,
   "id": "ea7c94ed",
   "metadata": {
    "scrolled": true
   },
   "outputs": [
    {
     "data": {
      "text/plain": [
       "Text(0.5, 1.0, 'part3 crime rate')"
      ]
     },
     "execution_count": 31,
     "metadata": {},
     "output_type": "execute_result"
    },
    {
     "data": {
      "image/png": "[encoded data removed]",
      "text/plain": [
       "<Figure size 432x288 with 1 Axes>"
      ]
     },
     "metadata": {},
     "output_type": "display_data"
    }
   ],
   "source": [
    "p3=plt.pie(x3,labels=y, autopct='%.1f%%')\n",
    "plt.title('part3 crime rate')"
   ]
  },
  {
   "cell_type": "markdown",
   "id": "5494695d",
   "metadata": {},
   "source": [
    "<h3>파트별 shooting횟수</h3>"
   ]
  },
  {
   "cell_type": "code",
   "execution_count": 32,
   "id": "29be48a1",
   "metadata": {},
   "outputs": [
    {
     "name": "stdout",
     "output_type": "stream",
     "text": [
      "           전체  shooting  shooting 비율\n",
      "p1      61629       663     0.010758\n",
      "p2      97569       184     0.001886\n",
      "p3     158553       166     0.001047\n",
      "other    1232         1     0.000812\n"
     ]
    }
   ],
   "source": [
    "Shootingdata=data[data['SHOOTING']=='Y']\n",
    "ShootingG=Shootingdata.groupby('UCR_PART').size()\n",
    "ShootingG\n",
    "df=pd.DataFrame({'전체':[61629,97569,158553,1232],'shooting':[663,184,166,1],'shooting 비율':[663/61629,184/97569,166/158553,1/1232]},index=['p1','p2','p3','other'])\n",
    "print(df)"
   ]
  },
  {
   "cell_type": "markdown",
   "id": "de75ac7a",
   "metadata": {},
   "source": [
    "<h3>위도 경도</h3>"
   ]
  },
  {
   "cell_type": "code",
   "execution_count": 33,
   "id": "5e9034c8",
   "metadata": {},
   "outputs": [
    {
     "name": "stdout",
     "output_type": "stream",
     "text": [
      "42.24076076621939\n",
      "-70.94204111445757\n",
      "3.1303930467994943\n",
      "42.20739783610951\n",
      "-70.89685738241448\n",
      "3.5956764836348216\n",
      "42.20755368541903\n",
      "-70.90085430376313\n",
      "3.576218498250383\n"
     ]
    }
   ],
   "source": [
    "print(data_p1['Lat'].mean())\n",
    "print(data_p1['Long'].mean())\n",
    "print(data_p1['Long'].std())\n",
    "\n",
    "print(data_p2['Lat'].mean())\n",
    "print(data_p2['Long'].mean())\n",
    "print(data_p2['Long'].std())\n",
    "\n",
    "print(data_p3['Lat'].mean())\n",
    "print(data_p3['Long'].mean())\n",
    "print(data_p3['Long'].std())"
   ]
  },
  {
   "cell_type": "code",
   "execution_count": 34,
   "id": "943b7c8f",
   "metadata": {},
   "outputs": [
    {
     "name": "stdout",
     "output_type": "stream",
     "text": [
      "           mean        max        min       std\n",
      "Lat   42.214381  42.395042  -1.000000  2.159766\n",
      "Long -70.908272  -1.000000 -71.178674  3.493618\n"
     ]
    }
   ],
   "source": [
    "#이상치 확인\n",
    "v1=data['Lat'].mean()\n",
    "v2=data['Lat'].max()\n",
    "v3=data['Lat'].min()\n",
    "\n",
    "v4=data['Long'].mean()\n",
    "v5=data['Long'].max()\n",
    "v6=data['Long'].min()\n",
    "\n",
    "v7=data['Lat'].std()\n",
    "v8=data['Long'].std()\n",
    "\n",
    "df=pd.DataFrame({'mean':[v1,v4],'max':[v2,v5],'min':[v3,v6], 'std':[v7,v8]},index=['Lat','Long'])\n",
    "print(df)"
   ]
  },
  {
   "cell_type": "code",
   "execution_count": null,
   "id": "db732eed",
   "metadata": {},
   "outputs": [],
   "source": []
  },
  {
   "cell_type": "code",
   "execution_count": 35,
   "id": "69085478",
   "metadata": {},
   "outputs": [
    {
     "data": {
      "text/plain": [
       "Text(0, 0.5, 'longitude')"
      ]
     },
     "execution_count": 35,
     "metadata": {},
     "output_type": "execute_result"
    },
    {
     "data": {
      "image/png": "[encoded data removed]",
      "text/plain": [
       "<Figure size 432x288 with 1 Axes>"
      ]
     },
     "metadata": {
      "needs_background": "light"
     },
     "output_type": "display_data"
    }
   ],
   "source": [
    "plt.xlim([42.2,42.45])\n",
    "plt.ylim([-71.25,-70.9])\n",
    "plt.scatter(data['Lat'],data['Long'])\n",
    "plt.xlabel('latitude')\n",
    "plt.ylabel('longitude')\n"
   ]
  },
  {
   "cell_type": "markdown",
   "id": "de0063d5",
   "metadata": {},
   "source": [
    "<h3>그룹별 연도 범죄수</h3>전체 연도별 범죄수 그래프와 상이하다"
   ]
  },
  {
   "cell_type": "code",
   "execution_count": 36,
   "id": "29998995",
   "metadata": {
    "scrolled": true
   },
   "outputs": [
    {
     "data": {
      "text/plain": [
       "Text(0, 0.5, 'part1 crime frequency')"
      ]
     },
     "execution_count": 36,
     "metadata": {},
     "output_type": "execute_result"
    },
    {
     "data": {
      "image/png": "[encoded data removed]",
      "text/plain": [
       "<Figure size 432x288 with 1 Axes>"
      ]
     },
     "metadata": {
      "needs_background": "light"
     },
     "output_type": "display_data"
    }
   ],
   "source": [
    "\n",
    "X1=data_p1.groupby('YEAR')\n",
    "X1.size()\n",
    "x=['2015','2016','2017','2018']\n",
    "plt.bar(x,X1.size(),color='green')\n",
    "plt.xlabel('year')\n",
    "plt.ylabel('part1 crime frequency')"
   ]
  },
  {
   "cell_type": "code",
   "execution_count": 37,
   "id": "9b22dcc2",
   "metadata": {},
   "outputs": [
    {
     "data": {
      "text/plain": [
       "Text(0, 0.5, 'part2 crime frequency')"
      ]
     },
     "execution_count": 37,
     "metadata": {},
     "output_type": "execute_result"
    },
    {
     "data": {
      "image/png": "[encoded data removed]",
      "text/plain": [
       "<Figure size 432x288 with 1 Axes>"
      ]
     },
     "metadata": {
      "needs_background": "light"
     },
     "output_type": "display_data"
    }
   ],
   "source": [
    "X2=data_p2.groupby('YEAR')\n",
    "X2.size()\n",
    "x=['2015','2016','2017','2018']\n",
    "plt.bar(x,X2.size(),color='green')\n",
    "plt.xlabel('year')\n",
    "plt.ylabel('part2 crime frequency')"
   ]
  },
  {
   "cell_type": "code",
   "execution_count": 38,
   "id": "bbb0299b",
   "metadata": {},
   "outputs": [
    {
     "data": {
      "text/plain": [
       "Text(0, 0.5, 'part3 crime frequency')"
      ]
     },
     "execution_count": 38,
     "metadata": {},
     "output_type": "execute_result"
    },
    {
     "data": {
      "image/png": "[encoded data removed]",
      "text/plain": [
       "<Figure size 432x288 with 1 Axes>"
      ]
     },
     "metadata": {
      "needs_background": "light"
     },
     "output_type": "display_data"
    }
   ],
   "source": [
    "X3=data_p3.groupby('YEAR')\n",
    "X3.size()\n",
    "x=['2015','2016','2017','2018']\n",
    "plt.bar(x,X3.size(),color='green')\n",
    "plt.xlabel('year')\n",
    "plt.ylabel('part3 crime frequency')"
   ]
  },
  {
   "cell_type": "code",
   "execution_count": 74,
   "id": "55c9433d",
   "metadata": {},
   "outputs": [
    {
     "data": {
      "text/plain": [
       "Text(0, 0.5, 'p1 crime frequency')"
      ]
     },
     "execution_count": 74,
     "metadata": {},
     "output_type": "execute_result"
    },
    {
     "data": {
      "image/png": "[encoded data removed]",
      "text/plain": [
       "<Figure size 432x288 with 1 Axes>"
      ]
     },
     "metadata": {
      "needs_background": "light"
     },
     "output_type": "display_data"
    }
   ],
   "source": [
    "x=data_p1.groupby('MONTH').size()\n",
    "plt.bar(x.index,x,color='green')\n",
    "plt.xlabel('month')\n",
    "plt.ylabel('p1 crime frequency')\n",
    "\n",
    "\n"
   ]
  },
  {
   "cell_type": "code",
   "execution_count": 77,
   "id": "ee0f775a",
   "metadata": {},
   "outputs": [
    {
     "data": {
      "image/png": "[encoded data removed]",
      "text/plain": [
       "<Figure size 432x288 with 1 Axes>"
      ]
     },
     "metadata": {
      "needs_background": "light"
     },
     "output_type": "display_data"
    }
   ],
   "source": [
    "x=data_p2.groupby('MONTH').size()\n",
    "plt.bar(x.index,x,color='green')\n",
    "plt.xlabel('month')\n",
    "plt.ylabel('p2 crime frequency')\n",
    "plt.grid(axis='y')\n"
   ]
  },
  {
   "cell_type": "code",
   "execution_count": 76,
   "id": "1ed6b029",
   "metadata": {},
   "outputs": [
    {
     "data": {
      "text/plain": [
       "Text(0, 0.5, 'p3 crime frequency')"
      ]
     },
     "execution_count": 76,
     "metadata": {},
     "output_type": "execute_result"
    },
    {
     "data": {
      "image/png": "[encoded data removed]",
      "text/plain": [
       "<Figure size 432x288 with 1 Axes>"
      ]
     },
     "metadata": {
      "needs_background": "light"
     },
     "output_type": "display_data"
    }
   ],
   "source": [
    "x=data_p3.groupby('MONTH').size()\n",
    "plt.bar(x.index,x,color='green')\n",
    "plt.xlabel('month')\n",
    "plt.ylabel('p3 crime frequency')"
   ]
  },
  {
   "cell_type": "code",
   "execution_count": null,
   "id": "fb22a32b",
   "metadata": {},
   "outputs": [],
   "source": []
  }
 ],
 "metadata": {
  "kernelspec": {
   "display_name": "Python 3 (ipykernel)",
   "language": "python",
   "name": "python3"
  },
  "language_info": {
   "codemirror_mode": {
    "name": "ipython",
    "version": 3
   },
   "file_extension": ".py",
   "mimetype": "text/x-python",
   "name": "python",
   "nbconvert_exporter": "python",
   "pygments_lexer": "ipython3",
   "version": "3.9.7"
  }
 },
 "nbformat": 4,
 "nbformat_minor": 5
}
